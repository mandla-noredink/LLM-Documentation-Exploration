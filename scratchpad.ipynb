{
 "cells": [
  {
   "cell_type": "code",
   "execution_count": 7,
   "metadata": {},
   "outputs": [],
   "source": [
    "import dropbox\n",
    "import shutil\n",
    "import os\n",
    "\n",
    "DOWNLOAD_FOLDER = \"content\"\n",
    "TEST_CONTENT_DROPBOX_FOLDER = \"LLM Doc Exp Test Content\"\n",
    "API_KEY = os.environ.get('DROPBOX_API_KEY', \"DUMMY_KEY\")\n",
    "dbx = dropbox.Dropbox(API_KEY)\n"
   ]
  },
  {
   "cell_type": "code",
   "execution_count": 8,
   "metadata": {},
   "outputs": [
    {
     "name": "stdout",
     "output_type": "stream",
     "text": [
      "content/Quick Writes Technical Documentation.md\n",
      "content/Rails Migrations Guide.md\n",
      "content/Guided Drafts Technical Documentation.md\n",
      "content/Writing Assignment Data Documentation.md\n"
     ]
    }
   ],
   "source": [
    "# Ensure local download folder exists, and delete its contents\n",
    "\n",
    "def create_download_folder():\n",
    "    if not os.path.exists(DOWNLOAD_FOLDER):\n",
    "        os.makedirs(DOWNLOAD_FOLDER)\n",
    "\n",
    "def clear_downloads_folder():\n",
    "    for filename in os.listdir(DOWNLOAD_FOLDER):\n",
    "        file_path = os.path.join(DOWNLOAD_FOLDER, filename)\n",
    "        print(file_path)\n",
    "        try:\n",
    "            if os.path.isfile(file_path) or os.path.islink(file_path):\n",
    "                os.unlink(file_path)\n",
    "            elif os.path.isdir(file_path):\n",
    "                shutil.rmtree(file_path)\n",
    "        except Exception as e:\n",
    "            print('Failed to delete %s. Reason: %s' % (file_path, e))\n",
    "\n",
    "create_download_folder()\n",
    "clear_downloads_folder()"
   ]
  },
  {
   "cell_type": "code",
   "execution_count": 9,
   "metadata": {},
   "outputs": [
    {
     "name": "stdout",
     "output_type": "stream",
     "text": [
      "Retrieving document IDs\n",
      "- 92 documents found\n",
      "Filtering documents in folder\n",
      "- 29 documents found in folder\n",
      "Retrieving document titles\n",
      "Downloading documents\n",
      "- downloaded 'Immigrate to Nunavut'\n",
      "- downloaded 'Quebec Immigration programs for skilled workers'\n",
      "- downloaded 'About The BC Provincial Nominee Program'\n",
      "- downloaded 'Eligibility to apply for the Federal Skilled Trades Program (Express Entry)'\n",
      "- downloaded 'Eligibility to apply as a Federal Skilled Worker (Express Entry)'\n",
      "- downloaded 'How Express Entry works'\n",
      "- downloaded 'Immigrate as a provincial nominee'\n",
      "- downloaded 'Find your National Occupation Classification (NOC)'\n",
      "- downloaded 'Offer of employment – Skilled immigrants (Express Entry)'\n",
      "- downloaded 'LMIA-exempt job offers – skilled immigrants (Express Entry)'\n",
      "- downloaded 'Language testing—Skilled immigrants (Express Entry)'\n",
      "- downloaded 'Language requirements — Skilled immigrants (Express Entry)'\n",
      "- downloaded 'Educational credential assessment (ECA) for Express Entry'\n",
      "- downloaded 'I am working in Canada on a valid work permit. Does this count as a job offer?'\n",
      "- downloaded 'Can I count student work experience toward the Express Entry work requirement?'\n",
      "- downloaded 'How we rank your Express Entry profile'\n",
      "- downloaded 'Comprehensive Ranking System (CRS) Criteria – Express Entry'\n",
      "- downloaded 'Visitor visa - Who needs a visitor visa'\n",
      "- downloaded 'Visitor visa - Who can apply'\n",
      "- downloaded 'Visitor visa - Prepare for your arrival'\n",
      "- downloaded 'Extend your stay in Canada: About the document'\n",
      "- downloaded 'Extend your stay as a visitor: Who can apply'\n",
      "- downloaded 'Temporary residents travelling outside Canada: What you need to re-enter to Canada'\n",
      "- downloaded 'Apply for citizenship: Who can apply'\n",
      "- downloaded 'Apply for citizenship: How to apply'\n",
      "- downloaded 'Apply for citizenship: Urgent processing'\n",
      "- downloaded 'Prepare for the citizenship test'\n",
      "- downloaded 'Prepare for the citizenship ceremony'\n",
      "- downloaded 'Visitor visa - After you apply'\n",
      "Download complete\n"
     ]
    }
   ],
   "source": [
    "# Filter dropbox paper docs and download to content file\n",
    "from dropbox.paper import ExportFormat, ListPaperDocsFilterBy\n",
    "\n",
    "def get_file_path(doc_id):\n",
    "    return os.path.join(DOWNLOAD_FOLDER, f\"{doc_titles[doc_id]}.md\")\n",
    "\n",
    "def download_doc(doc_id):\n",
    "    result = dbx.paper_docs_download_to_file(get_file_path(doc_id), doc_id, ExportFormat('markdown'))\n",
    "    print(f\"- downloaded '{result.title}'\")\n",
    "    return result\n",
    "\n",
    "print(\"Retrieving document IDs\")\n",
    "doc_ids = dbx.paper_docs_list(filter_by=ListPaperDocsFilterBy.docs_created).doc_ids\n",
    "print(f\"- {len(doc_ids)} documents found\")\n",
    "\n",
    "print(\"Filtering documents in folder\")\n",
    "docs_ids_in_folder = [doc_id for doc_id in doc_ids if TEST_CONTENT_DROPBOX_FOLDER in [folder.name for folder in dbx.paper_docs_get_folder_info(doc_id).folders or []]]\n",
    "print(f\"- {len(docs_ids_in_folder)} documents found in folder\")\n",
    "\n",
    "print(\"Retrieving document titles\")\n",
    "doc_titles = {doc_id: dbx.paper_docs_download(doc_id, ExportFormat('markdown'))[0].title for doc_id in docs_ids_in_folder}\n",
    "\n",
    "print(\"Downloading documents\")\n",
    "results = [download_doc(doc_id) for doc_id in docs_ids_in_folder]\n",
    "print(\"Download complete\")"
   ]
  },
  {
   "cell_type": "code",
   "execution_count": null,
   "metadata": {},
   "outputs": [],
   "source": []
  },
  {
   "cell_type": "code",
   "execution_count": null,
   "metadata": {},
   "outputs": [],
   "source": []
  }
 ],
 "metadata": {
  "kernelspec": {
   "display_name": "llm-documentation-explorer-4idgME2U-py3.12",
   "language": "python",
   "name": "python3"
  },
  "language_info": {
   "codemirror_mode": {
    "name": "ipython",
    "version": 3
   },
   "file_extension": ".py",
   "mimetype": "text/x-python",
   "name": "python",
   "nbconvert_exporter": "python",
   "pygments_lexer": "ipython3",
   "version": "3.12.2"
  }
 },
 "nbformat": 4,
 "nbformat_minor": 2
}
